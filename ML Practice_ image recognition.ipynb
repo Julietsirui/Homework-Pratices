{
 "cells": [
  {
   "cell_type": "code",
   "execution_count": 1,
   "metadata": {},
   "outputs": [
    {
     "name": "stdout",
     "output_type": "stream",
     "text": [
      "x_train_orig shape: (60000, 28, 28)\n",
      "y_train shape: (60000,)\n"
     ]
    }
   ],
   "source": [
    "import numpy as np\n",
    "import matplotlib.pyplot as plt\n",
    "import tensorflow as tf\n",
    "%matplotlib inline\n",
    "#import mnist data\n",
    "(x_train_orig, y_train), (x_test_orig, y_test) = tf.keras.datasets.mnist.load_data()\n",
    "#dimensions of dataset\n",
    "\n",
    "print('x_train_orig shape: ' + str(x_train_orig.shape))\n",
    "print('y_train shape: ' + str(y_train.shape))"
   ]
  },
  {
   "cell_type": "code",
   "execution_count": 11,
   "metadata": {},
   "outputs": [
    {
     "name": "stdout",
     "output_type": "stream",
     "text": [
      "Epoch 1/3\n",
      "60000/60000 [==============================] - 13s 214us/step - loss: 0.2524 - acc: 0.9230\n",
      "Epoch 2/3\n",
      "60000/60000 [==============================] - 12s 197us/step - loss: 0.1064 - acc: 0.9684\n",
      "Epoch 3/3\n",
      "60000/60000 [==============================] - 12s 193us/step - loss: 0.0771 - acc: 0.9765\n"
     ]
    },
    {
     "data": {
      "text/plain": [
       "<tensorflow.python.keras.callbacks.History at 0x18e3a41c710>"
      ]
     },
     "execution_count": 11,
     "metadata": {},
     "output_type": "execute_result"
    }
   ],
   "source": [
    "## Nomalize train and test sets\n",
    "x_train_orig = tf.keras.utils.normalize(x_train_orig, axis = 1)\n",
    "x_test_orig = tf.keras.utils.normalize(x_test_orig, axis = 1)\n",
    "\n",
    "## create a model with layers\n",
    "model = tf.keras.models.Sequential()\n",
    "model.add(tf.keras.layers.Flatten())\n",
    "model.add(tf.keras.layers.Dense(256, activation = tf.nn.relu))\n",
    "model.add(tf.keras.layers.Dense(128, activation = tf.nn.relu))\n",
    "model.add(tf.keras.layers.Dense(128, activation = tf.nn.relu))\n",
    "model.add(tf.keras.layers.Dense(128, activation = tf.nn.relu))\n",
    "model.add(tf.keras.layers.Dense(64, activation = tf.nn.relu))\n",
    "model.add(tf.keras.layers.Dense(10, activation = tf.nn.softmax))\n",
    "\n",
    "## fix parameters for model\n",
    "model.compile(optimizer = 'adam',\n",
    "             loss = 'sparse_categorical_crossentropy',\n",
    "             metrics = ['accuracy'])\n",
    "\n",
    "## train model with normalized data\n",
    "model.fit(x_train_orig, y_train, epochs = 3)"
   ]
  },
  {
   "cell_type": "code",
   "execution_count": 3,
   "metadata": {},
   "outputs": [
    {
     "name": "stdout",
     "output_type": "stream",
     "text": [
      "10000/10000 [==============================] - 0s 41us/step\n"
     ]
    }
   ],
   "source": [
    "## get results\n",
    "val_loss, val_acc = model.evaluate(x_test_orig, y_test)\n"
   ]
  },
  {
   "cell_type": "code",
   "execution_count": 4,
   "metadata": {},
   "outputs": [
    {
     "name": "stdout",
     "output_type": "stream",
     "text": [
      "[[3.9179740e-06 2.9568412e-06 7.4276344e-05 ... 9.9924785e-01\n",
      "  2.6053016e-07 2.7118251e-05]\n",
      " [5.0606849e-07 1.8618356e-02 9.7877240e-01 ... 1.5257923e-07\n",
      "  2.6527928e-06 1.7874584e-08]\n",
      " [1.5673569e-06 9.9983835e-01 1.9362526e-06 ... 1.1417226e-04\n",
      "  1.9087942e-05 8.1964907e-07]\n",
      " ...\n",
      " [8.5523209e-07 2.3975674e-06 1.2908762e-07 ... 8.1526079e-05\n",
      "  1.3637322e-05 1.2299046e-05]\n",
      " [4.6247264e-06 4.4247059e-08 3.8057215e-09 ... 1.8682901e-07\n",
      "  3.6768524e-05 3.5151080e-09]\n",
      " [3.1090344e-06 4.9649827e-08 8.9316949e-08 ... 3.3928496e-09\n",
      "  4.7396964e-07 2.8188720e-09]]\n"
     ]
    }
   ],
   "source": [
    "## prediction\n",
    "model.save('first_pic_classif_ml')\n",
    "new_model = tf.keras.models.load_model('first_pic_classif_ml')\n",
    "predictions = new_model.predict(x_test_orig)\n",
    "print (predictions)"
   ]
  },
  {
   "cell_type": "code",
   "execution_count": 7,
   "metadata": {},
   "outputs": [
    {
     "data": {
      "text/plain": [
       "<matplotlib.image.AxesImage at 0x18e433c2588>"
      ]
     },
     "execution_count": 7,
     "metadata": {},
     "output_type": "execute_result"
    },
    {
     "data": {
      "image/png": "[encoded data removed]",
      "text/plain": [
       "<Figure size 432x288 with 1 Axes>"
      ]
     },
     "metadata": {
      "needs_background": "light"
     },
     "output_type": "display_data"
    }
   ],
   "source": [
    "# print out the picture in test set\n",
    "plt.imshow(x_test_orig[105])"
   ]
  },
  {
   "cell_type": "code",
   "execution_count": 8,
   "metadata": {},
   "outputs": [
    {
     "name": "stdout",
     "output_type": "stream",
     "text": [
      "9\n"
     ]
    }
   ],
   "source": [
    "## print out prediction\n",
    "print(np.argmax(predictions[105]))"
   ]
  },
  {
   "cell_type": "code",
   "execution_count": null,
   "metadata": {},
   "outputs": [],
   "source": []
  }
 ],
 "metadata": {
  "kernelspec": {
   "display_name": "Python 2",
   "language": "python",
   "name": "python2"
  },
  "language_info": {
   "codemirror_mode": {
    "name": "ipython",
    "version": 2
   },
   "file_extension": ".py",
   "mimetype": "text/x-python",
   "name": "python",
   "nbconvert_exporter": "python",
   "pygments_lexer": "ipython2",
   "version": "2.7.15"
  }
 },
 "nbformat": 4,
 "nbformat_minor": 2
}
