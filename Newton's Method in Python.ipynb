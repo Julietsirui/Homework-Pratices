{
 "cells": [
  {
   "cell_type": "code",
   "execution_count": 1,
   "metadata": {},
   "outputs": [],
   "source": [
    "import numpy as np"
   ]
  },
  {
   "cell_type": "code",
   "execution_count": 11,
   "metadata": {},
   "outputs": [
    {
     "name": "stdout",
     "output_type": "stream",
     "text": [
      "-48.005\n",
      "-23.0124990001\n",
      "-10.5262395058\n",
      "-4.30303596239\n",
      "-1.23084483305\n",
      "0.229819300167\n",
      "0.832452610502\n",
      "0.987978163465\n",
      "0.999928596129\n",
      "0.999999997451\n",
      "1.0\n"
     ]
    }
   ],
   "source": [
    "# PROBLEM 2\n",
    "# WHEN p0 = 1.99\n",
    "\n",
    "def f(x):\n",
    "\n",
    "    return x**2 - 4*x + 3\n",
    "\n",
    "def f_prime(x):\n",
    "   \n",
    "    return  2*x - 4\n",
    "\n",
    "#DEFINE P0\n",
    "guess = 1.99\n",
    "\n",
    "for value in range(0, 20):\n",
    "\n",
    "    nextguess = guess - f(guess)/f_prime(guess)\n",
    "    \n",
    "    print(nextguess)\n",
    "    \n",
    "    if abs(nextguess - guess) <  0.00001:\n",
    "        break\n",
    "    \n",
    "    guess = nextguess\n",
    "    \n",
    "#OUTPUT: SEQUENCE OF q0    "
   ]
  },
  {
   "cell_type": "code",
   "execution_count": 13,
   "metadata": {},
   "outputs": [
    {
     "name": "stdout",
     "output_type": "stream",
     "text": [
      "52.005\n",
      "27.0124990001\n",
      "14.5262395058\n",
      "8.30303596239\n",
      "5.23084483305\n",
      "3.77018069983\n",
      "3.1675473895\n",
      "3.01202183654\n",
      "3.00007140387\n",
      "3.00000000255\n",
      "3.0\n"
     ]
    }
   ],
   "source": [
    "# PROBLEM 2\n",
    "# WHEN p0 = 2.01\n",
    "\n",
    "#DEFINE P0\n",
    "guess = 2.01\n",
    "\n",
    "for value in range(0, 20):\n",
    "\n",
    "    nextguess = guess - f(guess)/f_prime(guess)\n",
    "    \n",
    "    print(nextguess)\n",
    "    \n",
    "    if abs(nextguess - guess) <  0.00001:\n",
    "        break\n",
    "    \n",
    "    guess = nextguess\n",
    "    \n",
    "#OUTPUT: SEQUENCE OF q0"
   ]
  },
  {
   "cell_type": "code",
   "execution_count": null,
   "metadata": {},
   "outputs": [],
   "source": []
  }
 ],
 "metadata": {
  "kernelspec": {
   "display_name": "Python 2",
   "language": "python",
   "name": "python2"
  },
  "language_info": {
   "codemirror_mode": {
    "name": "ipython",
    "version": 2
   },
   "file_extension": ".py",
   "mimetype": "text/x-python",
   "name": "python",
   "nbconvert_exporter": "python",
   "pygments_lexer": "ipython2",
   "version": "2.7.15"
  }
 },
 "nbformat": 4,
 "nbformat_minor": 2
}
