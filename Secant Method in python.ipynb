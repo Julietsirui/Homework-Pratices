{
 "cells": [
  {
   "cell_type": "code",
   "execution_count": 8,
   "metadata": {},
   "outputs": [],
   "source": [
    "import numpy as np\n",
    "import math"
   ]
  },
  {
   "cell_type": "code",
   "execution_count": 18,
   "metadata": {},
   "outputs": [
    {
     "name": "stdout",
     "output_type": "stream",
     "text": [
      "1.16861533992\n",
      "1.31151655472\n",
      "1.79704300963\n",
      "1.43677789253\n",
      "1.48676628687\n",
      "1.51532576052\n",
      "1.51201193433\n",
      "1.512133976\n",
      "1.51213455176\n"
     ]
    }
   ],
   "source": [
    "#PROBLEM 3 \n",
    "#WHEN WE START WITH 1 AND 2\n",
    "\n",
    "def f(x):\n",
    "    \n",
    "    return 3*x - math.exp(x)\n",
    "\n",
    "guess0 = 1\n",
    "\n",
    "guess1 = 2\n",
    "\n",
    "for value in range (0, 20):\n",
    "\n",
    "    nextguess = guess1 - (f(guess1)*(guess1 - guess0))/(f(guess1) - f(guess0))\n",
    "    \n",
    "    print(nextguess)\n",
    "    \n",
    "    if abs(nextguess - guess1) < 0.00001:\n",
    "    \n",
    "       break\n",
    "        \n",
    "    guess0 = guess1\n",
    "    \n",
    "    guess1 = nextguess\n"
   ]
  },
  {
   "cell_type": "code",
   "execution_count": 19,
   "metadata": {},
   "outputs": [
    {
     "name": "stdout",
     "output_type": "stream",
     "text": [
      "1.45860296172\n",
      "1.5054653687\n",
      "1.51270058409\n",
      "1.51212893951\n",
      "1.51213454697\n"
     ]
    }
   ],
   "source": [
    "guess0 = 1.2\n",
    "\n",
    "guess1 = 1.6\n",
    "\n",
    "for value in range (0, 20):\n",
    "\n",
    "    nextguess = guess1 - (f(guess1)*(guess1 - guess0))/(f(guess1) - f(guess0))\n",
    "    \n",
    "    print(nextguess)\n",
    "    \n",
    "    if abs(nextguess - guess1) < 0.00001:\n",
    "    \n",
    "       break\n",
    "        \n",
    "    guess0 = guess1\n",
    "    \n",
    "    guess1 = nextguess"
   ]
  },
  {
   "cell_type": "code",
   "execution_count": null,
   "metadata": {},
   "outputs": [],
   "source": []
  }
 ],
 "metadata": {
  "kernelspec": {
   "display_name": "Python 2",
   "language": "python",
   "name": "python2"
  },
  "language_info": {
   "codemirror_mode": {
    "name": "ipython",
    "version": 2
   },
   "file_extension": ".py",
   "mimetype": "text/x-python",
   "name": "python",
   "nbconvert_exporter": "python",
   "pygments_lexer": "ipython2",
   "version": "2.7.15"
  }
 },
 "nbformat": 4,
 "nbformat_minor": 2
}
